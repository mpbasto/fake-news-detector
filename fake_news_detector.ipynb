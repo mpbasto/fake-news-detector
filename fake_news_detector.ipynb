{
  "nbformat": 4,
  "nbformat_minor": 0,
  "metadata": {
    "colab": {
      "name": "fake_news_detector.ipynb",
      "provenance": [],
      "collapsed_sections": [],
      "mount_file_id": "1qZr-s4N6CejLulyvH0_6LLuQTWVvuXOR",
      "authorship_tag": "ABX9TyNDGCql1062y3LimLWAMFxC",
      "include_colab_link": true
    },
    "kernelspec": {
      "name": "python3",
      "display_name": "Python 3"
    },
    "language_info": {
      "name": "python"
    }
  },
  "cells": [
    {
      "cell_type": "markdown",
      "metadata": {
        "id": "view-in-github",
        "colab_type": "text"
      },
      "source": [
        "<a href=\"https://colab.research.google.com/github/mpbasto/fake-news-detector/blob/main/fake_news_detector.ipynb\" target=\"_parent\"><img src=\"https://colab.research.google.com/assets/colab-badge.svg\" alt=\"Open In Colab\"/></a>"
      ]
    },
    {
      "cell_type": "markdown",
      "source": [
        "# Fake News Classification Project 📰 \n",
        "<img src=\"https://www.beknownforsomething.com/wp-content/uploads/2016/09/News.jpg\" alt=\"Newspaper boy cartoon\" title=\"Extra! Extra!\" width=\"200\" height=\"200\"/> \n",
        "\n",
        "\n",
        "> *“In the age of information, ignorance is a choice.”* - Donald Miller\n",
        "\n",
        "\n",
        "In this notebook, you will find an end-to-end binary classification model that detects **fake news** using sklearn.\n",
        "\n",
        "### What is Fake News?\n",
        "\n",
        "[Fake news](https://en.wikipedia.org/wiki/Fake_news#:~:text=Fake%20news%20is%20false%20or,reports%20in%20newspapers%20were%20common.) is false or misleading information presented as news. Fake news often has the aim of damaging the reputation of a person or entity, or making money through advertising revenue.\n",
        "\n",
        "## Problem\n",
        "\n",
        "Identifying whether a news deal is real or fake by its content.\n",
        "\n",
        "> *I want to know if the news I'm reading are actually true.*\n",
        "\n",
        "## Data\n",
        "\n",
        "The dataset I’ll use for this project is called `news.csv` found in [DataFlair](https://data-flair.training/blogs/advanced-python-project-detecting-fake-news/). \n",
        "\n",
        "## Evaluation\n",
        "\n",
        "Using sklearn, I will build a [`TfidfVectorizer`](https://scikit-learn.org/stable/modules/generated/sklearn.feature_extraction.text.TfidfVectorizer.html) on the dataset. Then, I will initialize a [`PassiveAggressiveClassifier`](https://scikit-learn.org/stable/modules/generated/sklearn.linear_model.PassiveAggressiveClassifier.html) and fit the model. In the end, the accuracy score and the confusion matrix tell us how well our model fares.\n",
        "\n",
        "The `TfidfVectorizer` converts a collection of raw documents to a matrix of [TF-IDF](https://towardsdatascience.com/tf-idf-for-document-ranking-from-scratch-in-python-on-real-world-dataset-796d339a4089#:~:text=TF%2DIDF%20stands%20for%20%E2%80%9CTerm,Information%20Retrieval%20and%20Text%20Mining.) features, which is a word quantifier (determines a score for each word to mark its importance in a document).\n",
        "* **TF (Term Frequency)** is the number of times a term occurs in a document.\n",
        "* **IDF (Inverse Document Frequency)** is a measure of how much information the word provides, i.e., if it is common or rare across all documents.\n",
        "\n",
        "The `PassiveAggressiveClassifier` is an [online learning](https://thecleverprogrammer.com/2021/02/10/passive-aggressive-classifier-in-machine-learning/) classification algorithm that remains passive for a correct classification outcome, and turns aggressive in the event of a miscalculation, update and adjustment.\n",
        "\n",
        "\n",
        "## Features\n",
        "\n",
        "There are a total of 6335 news articles in this dataset. There are also 4 attributes:\n",
        "* `[id]` - identifies the news.\n",
        "* `[title]` - the title of article and text, and the fourth column has labels denoting whether the news is REAL or FAKE.\n",
        "* `[text]` - the text of article\n",
        "* `[label]` - REAL and FAKE classes"
      ],
      "metadata": {
        "id": "x3SFsadZ_YgY"
      }
    },
    {
      "cell_type": "markdown",
      "source": [
        "### Preparing workspace\n"
      ],
      "metadata": {
        "id": "JqcnxSLODQ8x"
      }
    },
    {
      "cell_type": "code",
      "source": [
        "# Importing necessary tools\n",
        "import numpy as np\n",
        "import pandas as pd\n",
        "import matplotlib.pyplot as plt"
      ],
      "metadata": {
        "id": "9VlbyFxlS_zO"
      },
      "execution_count": 1,
      "outputs": []
    },
    {
      "cell_type": "markdown",
      "source": [
        "Along with the chosen model and evaluations..."
      ],
      "metadata": {
        "id": "HsyMyL1cTunB"
      }
    },
    {
      "cell_type": "code",
      "source": [
        "# Importing sklearn models and evaluations\n",
        "from sklearn.model_selection import train_test_split\n",
        "from sklearn.feature_extraction.text import TfidfVectorizer\n",
        "from sklearn.linear_model import PassiveAggressiveClassifier\n",
        "from sklearn.metrics import accuracy_score, confusion_matrix"
      ],
      "metadata": {
        "id": "YH7hY0NWTiEM"
      },
      "execution_count": 2,
      "outputs": []
    },
    {
      "cell_type": "markdown",
      "source": [
        "### Loading data & getting it ready"
      ],
      "metadata": {
        "id": "y5aM_7R1UejX"
      }
    },
    {
      "cell_type": "markdown",
      "source": [
        "And get shape of DF..."
      ],
      "metadata": {
        "id": "EgjVO2ecUv1U"
      }
    },
    {
      "cell_type": "code",
      "source": [
        "# Loading data\n",
        "df = pd.read_csv('drive/MyDrive/Colab Notebooks/Fake News/news.csv')\n",
        "df.shape"
      ],
      "metadata": {
        "colab": {
          "base_uri": "https://localhost:8080/"
        },
        "id": "-k-C6pFjUiXV",
        "outputId": "efb3e7a4-1dbd-446a-9060-dbcf5eba2903"
      },
      "execution_count": 3,
      "outputs": [
        {
          "output_type": "execute_result",
          "data": {
            "text/plain": [
              "(6335, 4)"
            ]
          },
          "metadata": {},
          "execution_count": 3
        }
      ]
    },
    {
      "cell_type": "code",
      "source": [
        "# Checking top 5 samples\n",
        "df.head()"
      ],
      "metadata": {
        "colab": {
          "base_uri": "https://localhost:8080/",
          "height": 206
        },
        "id": "Pm_L71fEVy2a",
        "outputId": "bcf3a0de-84bb-4492-cd1b-31b75b4e2e5e"
      },
      "execution_count": 4,
      "outputs": [
        {
          "output_type": "execute_result",
          "data": {
            "text/html": [
              "\n",
              "  <div id=\"df-10722df4-d602-42a8-b964-dd8f2744b623\">\n",
              "    <div class=\"colab-df-container\">\n",
              "      <div>\n",
              "<style scoped>\n",
              "    .dataframe tbody tr th:only-of-type {\n",
              "        vertical-align: middle;\n",
              "    }\n",
              "\n",
              "    .dataframe tbody tr th {\n",
              "        vertical-align: top;\n",
              "    }\n",
              "\n",
              "    .dataframe thead th {\n",
              "        text-align: right;\n",
              "    }\n",
              "</style>\n",
              "<table border=\"1\" class=\"dataframe\">\n",
              "  <thead>\n",
              "    <tr style=\"text-align: right;\">\n",
              "      <th></th>\n",
              "      <th>Id</th>\n",
              "      <th>title</th>\n",
              "      <th>text</th>\n",
              "      <th>label</th>\n",
              "    </tr>\n",
              "  </thead>\n",
              "  <tbody>\n",
              "    <tr>\n",
              "      <th>0</th>\n",
              "      <td>8476</td>\n",
              "      <td>You Can Smell Hillary’s Fear</td>\n",
              "      <td>Daniel Greenfield, a Shillman Journalism Fello...</td>\n",
              "      <td>FAKE</td>\n",
              "    </tr>\n",
              "    <tr>\n",
              "      <th>1</th>\n",
              "      <td>10294</td>\n",
              "      <td>Watch The Exact Moment Paul Ryan Committed Pol...</td>\n",
              "      <td>Google Pinterest Digg Linkedin Reddit Stumbleu...</td>\n",
              "      <td>FAKE</td>\n",
              "    </tr>\n",
              "    <tr>\n",
              "      <th>2</th>\n",
              "      <td>3608</td>\n",
              "      <td>Kerry to go to Paris in gesture of sympathy</td>\n",
              "      <td>U.S. Secretary of State John F. Kerry said Mon...</td>\n",
              "      <td>REAL</td>\n",
              "    </tr>\n",
              "    <tr>\n",
              "      <th>3</th>\n",
              "      <td>10142</td>\n",
              "      <td>Bernie supporters on Twitter erupt in anger ag...</td>\n",
              "      <td>— Kaydee King (@KaydeeKing) November 9, 2016 T...</td>\n",
              "      <td>FAKE</td>\n",
              "    </tr>\n",
              "    <tr>\n",
              "      <th>4</th>\n",
              "      <td>875</td>\n",
              "      <td>The Battle of New York: Why This Primary Matters</td>\n",
              "      <td>It's primary day in New York and front-runners...</td>\n",
              "      <td>REAL</td>\n",
              "    </tr>\n",
              "  </tbody>\n",
              "</table>\n",
              "</div>\n",
              "      <button class=\"colab-df-convert\" onclick=\"convertToInteractive('df-10722df4-d602-42a8-b964-dd8f2744b623')\"\n",
              "              title=\"Convert this dataframe to an interactive table.\"\n",
              "              style=\"display:none;\">\n",
              "        \n",
              "  <svg xmlns=\"http://www.w3.org/2000/svg\" height=\"24px\"viewBox=\"0 0 24 24\"\n",
              "       width=\"24px\">\n",
              "    <path d=\"M0 0h24v24H0V0z\" fill=\"none\"/>\n",
              "    <path d=\"M18.56 5.44l.94 2.06.94-2.06 2.06-.94-2.06-.94-.94-2.06-.94 2.06-2.06.94zm-11 1L8.5 8.5l.94-2.06 2.06-.94-2.06-.94L8.5 2.5l-.94 2.06-2.06.94zm10 10l.94 2.06.94-2.06 2.06-.94-2.06-.94-.94-2.06-.94 2.06-2.06.94z\"/><path d=\"M17.41 7.96l-1.37-1.37c-.4-.4-.92-.59-1.43-.59-.52 0-1.04.2-1.43.59L10.3 9.45l-7.72 7.72c-.78.78-.78 2.05 0 2.83L4 21.41c.39.39.9.59 1.41.59.51 0 1.02-.2 1.41-.59l7.78-7.78 2.81-2.81c.8-.78.8-2.07 0-2.86zM5.41 20L4 18.59l7.72-7.72 1.47 1.35L5.41 20z\"/>\n",
              "  </svg>\n",
              "      </button>\n",
              "      \n",
              "  <style>\n",
              "    .colab-df-container {\n",
              "      display:flex;\n",
              "      flex-wrap:wrap;\n",
              "      gap: 12px;\n",
              "    }\n",
              "\n",
              "    .colab-df-convert {\n",
              "      background-color: #E8F0FE;\n",
              "      border: none;\n",
              "      border-radius: 50%;\n",
              "      cursor: pointer;\n",
              "      display: none;\n",
              "      fill: #1967D2;\n",
              "      height: 32px;\n",
              "      padding: 0 0 0 0;\n",
              "      width: 32px;\n",
              "    }\n",
              "\n",
              "    .colab-df-convert:hover {\n",
              "      background-color: #E2EBFA;\n",
              "      box-shadow: 0px 1px 2px rgba(60, 64, 67, 0.3), 0px 1px 3px 1px rgba(60, 64, 67, 0.15);\n",
              "      fill: #174EA6;\n",
              "    }\n",
              "\n",
              "    [theme=dark] .colab-df-convert {\n",
              "      background-color: #3B4455;\n",
              "      fill: #D2E3FC;\n",
              "    }\n",
              "\n",
              "    [theme=dark] .colab-df-convert:hover {\n",
              "      background-color: #434B5C;\n",
              "      box-shadow: 0px 1px 3px 1px rgba(0, 0, 0, 0.15);\n",
              "      filter: drop-shadow(0px 1px 2px rgba(0, 0, 0, 0.3));\n",
              "      fill: #FFFFFF;\n",
              "    }\n",
              "  </style>\n",
              "\n",
              "      <script>\n",
              "        const buttonEl =\n",
              "          document.querySelector('#df-10722df4-d602-42a8-b964-dd8f2744b623 button.colab-df-convert');\n",
              "        buttonEl.style.display =\n",
              "          google.colab.kernel.accessAllowed ? 'block' : 'none';\n",
              "\n",
              "        async function convertToInteractive(key) {\n",
              "          const element = document.querySelector('#df-10722df4-d602-42a8-b964-dd8f2744b623');\n",
              "          const dataTable =\n",
              "            await google.colab.kernel.invokeFunction('convertToInteractive',\n",
              "                                                     [key], {});\n",
              "          if (!dataTable) return;\n",
              "\n",
              "          const docLinkHtml = 'Like what you see? Visit the ' +\n",
              "            '<a target=\"_blank\" href=https://colab.research.google.com/notebooks/data_table.ipynb>data table notebook</a>'\n",
              "            + ' to learn more about interactive tables.';\n",
              "          element.innerHTML = '';\n",
              "          dataTable['output_type'] = 'display_data';\n",
              "          await google.colab.output.renderOutput(dataTable, element);\n",
              "          const docLink = document.createElement('div');\n",
              "          docLink.innerHTML = docLinkHtml;\n",
              "          element.appendChild(docLink);\n",
              "        }\n",
              "      </script>\n",
              "    </div>\n",
              "  </div>\n",
              "  "
            ],
            "text/plain": [
              "      Id  ... label\n",
              "0   8476  ...  FAKE\n",
              "1  10294  ...  FAKE\n",
              "2   3608  ...  REAL\n",
              "3  10142  ...  FAKE\n",
              "4    875  ...  REAL\n",
              "\n",
              "[5 rows x 4 columns]"
            ]
          },
          "metadata": {},
          "execution_count": 4
        }
      ]
    },
    {
      "cell_type": "code",
      "source": [
        "# Checking dtypes\n",
        "df.info()"
      ],
      "metadata": {
        "colab": {
          "base_uri": "https://localhost:8080/"
        },
        "id": "iXb8E22kV-RH",
        "outputId": "238f1139-5c8b-4475-9fbf-d8c442758e46"
      },
      "execution_count": 5,
      "outputs": [
        {
          "output_type": "stream",
          "name": "stdout",
          "text": [
            "<class 'pandas.core.frame.DataFrame'>\n",
            "RangeIndex: 6335 entries, 0 to 6334\n",
            "Data columns (total 4 columns):\n",
            " #   Column  Non-Null Count  Dtype \n",
            "---  ------  --------------  ----- \n",
            " 0   Id      6335 non-null   int64 \n",
            " 1   title   6335 non-null   object\n",
            " 2   text    6335 non-null   object\n",
            " 3   label   6335 non-null   object\n",
            "dtypes: int64(1), object(3)\n",
            "memory usage: 198.1+ KB\n"
          ]
        }
      ]
    },
    {
      "cell_type": "code",
      "source": [
        "# Looking for null values\n",
        "df.isna().sum()"
      ],
      "metadata": {
        "colab": {
          "base_uri": "https://localhost:8080/"
        },
        "id": "OnOTv-0GXKnU",
        "outputId": "1b356850-caa3-49d1-d13d-0543435b5781"
      },
      "execution_count": 6,
      "outputs": [
        {
          "output_type": "execute_result",
          "data": {
            "text/plain": [
              "Id       0\n",
              "title    0\n",
              "text     0\n",
              "label    0\n",
              "dtype: int64"
            ]
          },
          "metadata": {},
          "execution_count": 6
        }
      ]
    },
    {
      "cell_type": "code",
      "source": [
        "# How many articles do we have in each class?\n",
        "df['label'].value_counts()"
      ],
      "metadata": {
        "colab": {
          "base_uri": "https://localhost:8080/"
        },
        "id": "91OChSxpXZjY",
        "outputId": "cd283d05-c5e2-45af-a75d-83173141d4e8"
      },
      "execution_count": 7,
      "outputs": [
        {
          "output_type": "execute_result",
          "data": {
            "text/plain": [
              "REAL    3171\n",
              "FAKE    3164\n",
              "Name: label, dtype: int64"
            ]
          },
          "metadata": {},
          "execution_count": 7
        }
      ]
    },
    {
      "cell_type": "code",
      "source": [
        "df['label'].value_counts().plot(kind='bar', color=['green', 'red']);"
      ],
      "metadata": {
        "colab": {
          "base_uri": "https://localhost:8080/",
          "height": 281
        },
        "id": "iErdbAt5XmBn",
        "outputId": "d72c1c4b-2965-4370-b5b4-1b4afc630951"
      },
      "execution_count": 8,
      "outputs": [
        {
          "output_type": "display_data",
          "data": {
            "image/png": "[encoded data removed]",
            "text/plain": [
              "<Figure size 432x288 with 1 Axes>"
            ]
          },
          "metadata": {
            "needs_background": "light"
          }
        }
      ]
    },
    {
      "cell_type": "markdown",
      "source": [
        "The values for both labels are pretty well distributed and there's no data missing from the dataset. Therefore, it's ok to proceed and get the labels from DF."
      ],
      "metadata": {
        "id": "etf7yGPPO9Hj"
      }
    },
    {
      "cell_type": "markdown",
      "source": [
        "## Modelling\n",
        "\n",
        "*   Reminder of the project's problem:\n",
        "> Identifying whether a news deal is real or fake by its content.\n",
        "\n",
        "### Training and test split\n",
        "It is necessary to split the target variable (`label` column) from the data so that the machine learning model can predict it. Once the target variable is separated from the rest, I am going to split the data into a training set and a test set.\n",
        "\n",
        "The training data will consist only of the `text` column, seen as this is the variable which contains enough useful data to train and predict.\n",
        "\n",
        "A rule of thumb is to use 80% of your data to train on and the other 20% to test on. So `test_size` parameter of the `train_test_split()` function will be set to `0.2`."
      ],
      "metadata": {
        "id": "6cRdgs4QUTM5"
      }
    },
    {
      "cell_type": "code",
      "source": [
        "# Getting labels from DF - split into X & y\n",
        "X = df['text']\n",
        "y = df['label'] # Target variable"
      ],
      "metadata": {
        "id": "aeqvgrlhT6VA"
      },
      "execution_count": 9,
      "outputs": []
    },
    {
      "cell_type": "code",
      "source": [
        "# Showing independent variable\n",
        "X.head()"
      ],
      "metadata": {
        "colab": {
          "base_uri": "https://localhost:8080/"
        },
        "id": "8X-5YLrhfEFb",
        "outputId": "2509ac60-5719-4dcf-8b16-b66206f90b12"
      },
      "execution_count": 10,
      "outputs": [
        {
          "output_type": "execute_result",
          "data": {
            "text/plain": [
              "0    Daniel Greenfield, a Shillman Journalism Fello...\n",
              "1    Google Pinterest Digg Linkedin Reddit Stumbleu...\n",
              "2    U.S. Secretary of State John F. Kerry said Mon...\n",
              "3    — Kaydee King (@KaydeeKing) November 9, 2016 T...\n",
              "4    It's primary day in New York and front-runners...\n",
              "Name: text, dtype: object"
            ]
          },
          "metadata": {},
          "execution_count": 10
        }
      ]
    },
    {
      "cell_type": "code",
      "source": [
        "# Showing target variable\n",
        "y"
      ],
      "metadata": {
        "colab": {
          "base_uri": "https://localhost:8080/"
        },
        "id": "zBaEYUYNUCrw",
        "outputId": "81af08b2-b572-4576-8593-144f8024b16f"
      },
      "execution_count": 11,
      "outputs": [
        {
          "output_type": "execute_result",
          "data": {
            "text/plain": [
              "0       FAKE\n",
              "1       FAKE\n",
              "2       REAL\n",
              "3       FAKE\n",
              "4       REAL\n",
              "        ... \n",
              "6330    REAL\n",
              "6331    FAKE\n",
              "6332    FAKE\n",
              "6333    REAL\n",
              "6334    REAL\n",
              "Name: label, Length: 6335, dtype: object"
            ]
          },
          "metadata": {},
          "execution_count": 11
        }
      ]
    },
    {
      "cell_type": "code",
      "source": [
        "# Spliting into training and test sets\n",
        "X_train, X_test, y_train, y_test = train_test_split(X, # independent variable\n",
        "                                                    y, # dependent variable\n",
        "                                                    test_size=0.2, # percentage of data to use for test set\n",
        "                                                    random_state=7) # Random seed for reproducibility"
      ],
      "metadata": {
        "id": "iRyfJatMZu3L"
      },
      "execution_count": 12,
      "outputs": []
    },
    {
      "cell_type": "markdown",
      "source": [
        "Now that the data has been split into training and test datasets, let's have a look at the training data."
      ],
      "metadata": {
        "id": "BbA3wTcqgLsn"
      }
    },
    {
      "cell_type": "code",
      "source": [
        "X_train.head()"
      ],
      "metadata": {
        "colab": {
          "base_uri": "https://localhost:8080/"
        },
        "id": "mo9VKjPDgXFu",
        "outputId": "b37fa266-624c-4306-bdeb-1738efab2b93"
      },
      "execution_count": 13,
      "outputs": [
        {
          "output_type": "execute_result",
          "data": {
            "text/plain": [
              "6237    The head of a leading survivalist group has ma...\n",
              "3722    ‹ › Arnaldo Rodgers is a trained and educated ...\n",
              "5774    Patty Sanchez, 51, used to eat 13,000 calories...\n",
              "336     But Benjamin Netanyahu’s reelection was regard...\n",
              "3622    John Kasich was killing it with these Iowa vot...\n",
              "Name: text, dtype: object"
            ]
          },
          "metadata": {},
          "execution_count": 13
        }
      ]
    },
    {
      "cell_type": "code",
      "source": [
        "print('nr of training labels: ', len(y_train))"
      ],
      "metadata": {
        "colab": {
          "base_uri": "https://localhost:8080/"
        },
        "id": "_7rUkAZ4gZ-i",
        "outputId": "e0d208e1-f922-49e1-b053-0d6c2faf729a"
      },
      "execution_count": 14,
      "outputs": [
        {
          "output_type": "stream",
          "name": "stdout",
          "text": [
            "nr of training labels:  5068\n"
          ]
        }
      ]
    },
    {
      "cell_type": "code",
      "source": [
        "y_train"
      ],
      "metadata": {
        "colab": {
          "base_uri": "https://localhost:8080/"
        },
        "id": "LWLXwi2KgkkR",
        "outputId": "ca34cec1-7350-48b1-dd43-12507d7c919b"
      },
      "execution_count": 15,
      "outputs": [
        {
          "output_type": "execute_result",
          "data": {
            "text/plain": [
              "6237    FAKE\n",
              "3722    FAKE\n",
              "5774    FAKE\n",
              "336     REAL\n",
              "3622    REAL\n",
              "        ... \n",
              "5699    FAKE\n",
              "2550    REAL\n",
              "537     REAL\n",
              "1220    REAL\n",
              "4271    REAL\n",
              "Name: label, Length: 5068, dtype: object"
            ]
          },
          "metadata": {},
          "execution_count": 15
        }
      ]
    },
    {
      "cell_type": "markdown",
      "source": [
        "5068 samples will be used to train the model for prediction."
      ],
      "metadata": {
        "id": "lMVqZ2bxhGK_"
      }
    },
    {
      "cell_type": "code",
      "source": [
        "print('nr of test labels: ', len(y_test))"
      ],
      "metadata": {
        "colab": {
          "base_uri": "https://localhost:8080/"
        },
        "id": "ApV72XU3hcSm",
        "outputId": "3d3f6fe4-b75d-48f8-b141-55104f893b37"
      },
      "execution_count": 16,
      "outputs": [
        {
          "output_type": "stream",
          "name": "stdout",
          "text": [
            "nr of test labels:  1267\n"
          ]
        }
      ]
    },
    {
      "cell_type": "code",
      "source": [
        "y_test"
      ],
      "metadata": {
        "colab": {
          "base_uri": "https://localhost:8080/"
        },
        "id": "SFQ8c0eIhmRZ",
        "outputId": "b1f11e8d-87c1-4c7a-ada8-a0ae148291b0"
      },
      "execution_count": 17,
      "outputs": [
        {
          "output_type": "execute_result",
          "data": {
            "text/plain": [
              "3534    REAL\n",
              "6265    FAKE\n",
              "3123    REAL\n",
              "3940    REAL\n",
              "2856    REAL\n",
              "        ... \n",
              "4986    REAL\n",
              "5789    REAL\n",
              "4338    REAL\n",
              "5924    FAKE\n",
              "6030    REAL\n",
              "Name: label, Length: 1267, dtype: object"
            ]
          },
          "metadata": {},
          "execution_count": 17
        }
      ]
    },
    {
      "cell_type": "markdown",
      "source": [
        "The model will be tested on 1267 samples."
      ],
      "metadata": {
        "id": "iwk2ToRThoum"
      }
    },
    {
      "cell_type": "markdown",
      "source": [
        "### Preprocessing the data\n",
        "With the data now split, it is necessary to transform it into a matrix of TF-IDF features, by initializing `TfidfVectorizer()`. The function will also extract stop words from the English language before processing the data (words like “and”, “the”, “him”) and set a maximum document frequency of 0.7 (terms with a higher document frequency will be discarded). \n",
        "\n",
        "[Stop words](https://scikit-learn.org/stable/modules/feature_extraction.html#stop-words) are presumed to be uninformative in representing the content of a text, and may be removed to avoid them being construed as signal for prediction. If we were to feed the direct count data directly to a classifier, those very frequent terms would shadow the frequencies of rarer yet more interesting terms."
      ],
      "metadata": {
        "id": "o6-BiXONhutb"
      }
    },
    {
      "cell_type": "code",
      "source": [
        "# Initializing TfidfVectorizer\n",
        "vectorizer = TfidfVectorizer(stop_words='english', max_df=0.7)\n",
        "\n",
        "# Fitting and transforming X_train set\n",
        "vect_X_train = vectorizer.fit_transform(X_train)\n",
        "\n",
        " # Transforming X_test set\n",
        "vect_X_test = vectorizer.transform(X_test)"
      ],
      "metadata": {
        "id": "tUTyjDK_kSM3"
      },
      "execution_count": 18,
      "outputs": []
    },
    {
      "cell_type": "code",
      "source": [
        "vect_X_train"
      ],
      "metadata": {
        "colab": {
          "base_uri": "https://localhost:8080/"
        },
        "id": "0sNuTeWfCXPf",
        "outputId": "141d13b8-8242-4186-d682-482b82c17b37"
      },
      "execution_count": 19,
      "outputs": [
        {
          "output_type": "execute_result",
          "data": {
            "text/plain": [
              "<5068x61727 sparse matrix of type '<class 'numpy.float64'>'\n",
              "\twith 1337219 stored elements in Compressed Sparse Row format>"
            ]
          },
          "metadata": {},
          "execution_count": 19
        }
      ]
    },
    {
      "cell_type": "markdown",
      "source": [
        "### Why do we use `fit_transform()` on training data but `transform()` on the test data?\n",
        "\n",
        "During my research, I came across this [article](https://towardsdatascience.com/what-and-why-behind-fit-transform-vs-transform-in-scikit-learn-78f915cf96fe) from Chetna Khanna, which answers this question with the utmost clarity and recommend bookmarking for future reference.\n",
        "\n",
        "To sum up:\n",
        "* `fit_transform()` first fits, then transforms the dataset in the same implementation. The **“best practice”** is to only use it on the training dataset.\n",
        "> *“Here, the model built by us will learn the mean and variance of the features of the training set. These learned parameters are then used to scale our test data.”*\n",
        "\n",
        "* `transform()` applies parameters learned from the `fit()` method. So the model will take the parameters learned from the fitting part of `fit_transform()`, which was applied to the training dataset, and use them on the test dataset so that the same parameters are used.\n",
        "> *“If we will use the fit method on our test data too, we will compute a new mean and variance that is a new scale for each feature and will let our model learn about our test data too. Thus, what we want to keep as a surprise is no longer unknown to our model and we will not get a good estimate of how our model is performing on the test (unseen) data which is the ultimate goal of building a model using machine learning algorithm.”*\n"
      ],
      "metadata": {
        "id": "HawUFvSynTAs"
      }
    },
    {
      "cell_type": "markdown",
      "source": [
        "## Modelling & Evaluation\n",
        "\n",
        "The `PassiveAggressiveClassifier()` is an [online learning](https://thecleverprogrammer.com/2021/02/10/passive-aggressive-classifier-in-machine-learning/) classification model that is going to be used for this project.\n",
        "\n",
        "It will be fitted into the vect_X_train and y_train before making predictions on the test set."
      ],
      "metadata": {
        "id": "v5KrYUwJr6gE"
      }
    },
    {
      "cell_type": "code",
      "source": [
        "NUM_EPOCHS = 50\n",
        "\n",
        "# Instanciating and fitting the PassiveAggressiveClassifier model\n",
        "clf = PassiveAggressiveClassifier(max_iter=NUM_EPOCHS)\n",
        "clf.fit(vect_X_train, y_train)"
      ],
      "metadata": {
        "id": "KOIci2x69juP",
        "colab": {
          "base_uri": "https://localhost:8080/"
        },
        "outputId": "87dd412f-ce05-4801-b111-140643efdf99"
      },
      "execution_count": 20,
      "outputs": [
        {
          "output_type": "execute_result",
          "data": {
            "text/plain": [
              "PassiveAggressiveClassifier(max_iter=50)"
            ]
          },
          "metadata": {},
          "execution_count": 20
        }
      ]
    },
    {
      "cell_type": "markdown",
      "source": [
        "With the model now fitted, I can now make predictions on the test dataset and evaluate its accuracy."
      ],
      "metadata": {
        "id": "3_B3b90g_2wV"
      }
    },
    {
      "cell_type": "code",
      "source": [
        "X_train"
      ],
      "metadata": {
        "id": "GPoSzMpBIW3h",
        "colab": {
          "base_uri": "https://localhost:8080/"
        },
        "outputId": "3a00940c-6951-48ba-d1fe-99ac881ebe0d"
      },
      "execution_count": 21,
      "outputs": [
        {
          "output_type": "execute_result",
          "data": {
            "text/plain": [
              "6237    The head of a leading survivalist group has ma...\n",
              "3722    ‹ › Arnaldo Rodgers is a trained and educated ...\n",
              "5774    Patty Sanchez, 51, used to eat 13,000 calories...\n",
              "336     But Benjamin Netanyahu’s reelection was regard...\n",
              "3622    John Kasich was killing it with these Iowa vot...\n",
              "                              ...                        \n",
              "5699                                                     \n",
              "2550    It’s not that Americans won’t elect wealthy pr...\n",
              "537     Anyone writing sentences like ‘nevertheless fu...\n",
              "1220    More Catholics are in Congress than ever befor...\n",
              "4271    It was hosted by CNN, and the presentation was...\n",
              "Name: text, Length: 5068, dtype: object"
            ]
          },
          "metadata": {},
          "execution_count": 21
        }
      ]
    },
    {
      "cell_type": "code",
      "source": [
        "train_preds = clf.predict(vect_X_train)\n",
        "str(round(accuracy_score(y_train, train_preds) * 100, 2)) + '%'"
      ],
      "metadata": {
        "colab": {
          "base_uri": "https://localhost:8080/",
          "height": 35
        },
        "id": "ne-AiAXaN4WU",
        "outputId": "b28fcdc1-483e-4780-8fdb-89f116a7ac9c"
      },
      "execution_count": 22,
      "outputs": [
        {
          "output_type": "execute_result",
          "data": {
            "application/vnd.google.colaboratory.intrinsic+json": {
              "type": "string"
            },
            "text/plain": [
              "'100.0%'"
            ]
          },
          "metadata": {},
          "execution_count": 22
        }
      ]
    },
    {
      "cell_type": "code",
      "source": [
        "# Creating function for model evaluation\n",
        "\n",
        "def model_score(model, X_train, X_test, y_train, y_test):\n",
        "  \"\"\"\n",
        "  Takes model, training and test datasets (X_train, X_test, y_train, y_test), and evaluates accuracy score of model.\n",
        "  Returns percentage of accuracy score.\n",
        "  \"\"\"\n",
        "  train_preds = model.predict(X_train)\n",
        "  test_preds = model.predict(X_test)\n",
        "  evaluation = {\n",
        "      \"Training accuracy score\": accuracy_score(y_train, train_preds),\n",
        "      \"Test accuracy score\": accuracy_score(y_test, test_preds),\n",
        "  }\n",
        "  # Returning the accuracy score in percentage format - rounded in 2 decimal places\n",
        "  scores = {}\n",
        "  for k, v in evaluation.items():\n",
        "    scores[k] = str(round(v * 100, 2)) + '%'\n",
        "  return scores\n"
      ],
      "metadata": {
        "id": "WmKve1KBEMr3"
      },
      "execution_count": 23,
      "outputs": []
    },
    {
      "cell_type": "code",
      "source": [
        "# Predicting on the training and test datasets and calculating accuracies\n",
        "model_score(clf, X_train=vect_X_train, X_test=vect_X_test, y_train=y_train, y_test=y_test)"
      ],
      "metadata": {
        "colab": {
          "base_uri": "https://localhost:8080/"
        },
        "id": "UgWTt_svI2sz",
        "outputId": "45de59c1-ebfd-4bbb-bf67-1d6743c8a298"
      },
      "execution_count": 24,
      "outputs": [
        {
          "output_type": "execute_result",
          "data": {
            "text/plain": [
              "{'Test accuracy score': '92.74%', 'Training accuracy score': '100.0%'}"
            ]
          },
          "metadata": {},
          "execution_count": 24
        }
      ]
    },
    {
      "cell_type": "markdown",
      "source": [
        "It is possible to verify that the model performed really well on the training dataset, as its accuracy score is 100%.\n",
        "\n",
        "Moreover, the model also got an accuracy of 92.9%!\n",
        "\n",
        "Finally, let’s print out a confusion matrix to gain insight into the number of false and true negatives and positives."
      ],
      "metadata": {
        "id": "RkIUULAuJwCU"
      }
    },
    {
      "cell_type": "markdown",
      "source": [
        "### Confusion matrix 😵‍💫\n",
        "\n",
        "A confusion matrix is a visual way to show where your model made the right predictions and where it made the wrong predictions (or in other words, got confused).\n",
        "\n",
        "Scikit-Learn allows us to create a confusion matrix using `confusion_matrix()`\n",
        " and passing it the true labels and predicted labels."
      ],
      "metadata": {
        "id": "PfTbGx90Q86j"
      }
    },
    {
      "cell_type": "code",
      "source": [
        "# Reinstantiating test_preds (was only created inside model_score function)\n",
        "test_preds = clf.predict(vect_X_test)\n",
        "\n",
        "# Displaying confusion matrix\n",
        "print(confusion_matrix(y_test, test_preds))"
      ],
      "metadata": {
        "colab": {
          "base_uri": "https://localhost:8080/"
        },
        "id": "cJR9DhVBRAVJ",
        "outputId": "37609310-52dd-4cf2-bded-e1835e8c3477"
      },
      "execution_count": 25,
      "outputs": [
        {
          "output_type": "stream",
          "name": "stdout",
          "text": [
            "[[589  49]\n",
            " [ 43 586]]\n"
          ]
        }
      ]
    },
    {
      "cell_type": "markdown",
      "source": [
        "For presentation purposes, I am going to create a function which uses Seaborn's `heatmap()` which makes the confusion matrix more visual."
      ],
      "metadata": {
        "id": "7aJyJm1vSDyz"
      }
    },
    {
      "cell_type": "code",
      "source": [
        "# Importing seaborn\n",
        "import seaborn as sns\n",
        "\n",
        "LABELS = ['FAKE', 'REAL']\n",
        "THEME = \"YlGnBu\"\n",
        "\n",
        "def plot_confusion_mat(y_test, y_preds):\n",
        "  \"\"\"\n",
        "  Plots a confusion matrix using heatmap() from Seaborn.\n",
        "  \"\"\"\n",
        "  fig, ax = plt.subplots(figsize=(6, 6))\n",
        "  ax = sns.heatmap(confusion_matrix(y_test, y_preds, labels=LABELS),\n",
        "                   annot=True, # Annotate the boxes\n",
        "                   fmt='d', # Preventing Exponential Notation\n",
        "                   cbar=False, \n",
        "                   cmap=THEME)\n",
        "  # Set up x & y labels and ticks\n",
        "  plt.xlabel(\"True label\")\n",
        "  plt.ylabel(\"Predicted label\")\n",
        "  ax.set_xticklabels(LABELS)\n",
        "  ax.set_yticklabels(LABELS)\n",
        "  # Set up title\n",
        "  plt.title('Fake News Confusion Matrix', fontsize=14)"
      ],
      "metadata": {
        "id": "LzyWMJhTSZdd"
      },
      "execution_count": 26,
      "outputs": []
    },
    {
      "cell_type": "code",
      "source": [
        "# Displaying confusion matrix\n",
        "plot_confusion_mat(y_test=y_test, y_preds=test_preds)"
      ],
      "metadata": {
        "colab": {
          "base_uri": "https://localhost:8080/",
          "height": 405
        },
        "id": "VqyIpwx8T2AN",
        "outputId": "7a21d362-f787-4d5a-eb23-ac7e61d9275b"
      },
      "execution_count": 27,
      "outputs": [
        {
          "output_type": "display_data",
          "data": {
            "image/png": "[encoded data removed]",
            "text/plain": [
              "<Figure size 432x432 with 1 Axes>"
            ]
          },
          "metadata": {
            "needs_background": "light"
          }
        }
      ]
    },
    {
      "cell_type": "markdown",
      "source": [
        "So with this model, we have 590 true positives, 587 true negatives, 42 false positives, and 49 false negatives. In essence, there are 48 occasions where the model predicted FAKE when it should've been REAL (false negative) and 42 occasions where the model predicted REAL instead of FAKE (false positive).\n",
        "\n",
        "\n",
        "### Classification Report\n",
        "\n",
        "A classification report will also provide information of the precision and recall of our model for each class.\n",
        "\n",
        "As a recap:\n",
        "* **Precision** - Indicates the proportion of positive identifications (model predicted class 1) which were actually correct. A model which produces no false positives has a precision of 1.0.\n",
        "* **Recall** - Indicates the proportion of actual positives which were correctly classified. A model which produces no false negatives has a recall of 1.0.\n",
        "* **F1 score** - A combination of precision and recall. A perfect model achieves an F1 score of 1.0.\n",
        "* **Support** - The number of samples each metric was calculated on.\n",
        "* **Accuracy** - The accuracy of the model in decimal form. Perfect accuracy is equal to 1.0.\n",
        "* **Macro avg** - Short for macro average, the average precision, recall and F1 score between classes. Macro avg doesn’t class imbalance into effort, so if you do have class imbalances, pay attention to this metric.\n",
        "* **Weighted avg** - Short for weighted average, the weighted average precision, recall and F1 score between classes. Weighted means each metric is calculated with respect to how many samples there are in each class. This metric will favour the majority class (e.g. will give a high value when one class out performs another due to having more samples)."
      ],
      "metadata": {
        "id": "x3LLKgSwT-nD"
      }
    },
    {
      "cell_type": "code",
      "source": [
        "from sklearn.metrics import classification_report\n",
        "\n",
        "# Displaying classification report\n",
        "print(classification_report(y_test, test_preds))"
      ],
      "metadata": {
        "colab": {
          "base_uri": "https://localhost:8080/"
        },
        "id": "GhDFHBQId8d5",
        "outputId": "3da23338-f053-4dd5-c2f3-08cbf9878545"
      },
      "execution_count": 28,
      "outputs": [
        {
          "output_type": "stream",
          "name": "stdout",
          "text": [
            "              precision    recall  f1-score   support\n",
            "\n",
            "        FAKE       0.93      0.92      0.93       638\n",
            "        REAL       0.92      0.93      0.93       629\n",
            "\n",
            "    accuracy                           0.93      1267\n",
            "   macro avg       0.93      0.93      0.93      1267\n",
            "weighted avg       0.93      0.93      0.93      1267\n",
            "\n"
          ]
        }
      ]
    },
    {
      "cell_type": "code",
      "source": [
        "import pickle\n",
        "\n",
        "FILEPATH = './drive/MyDrive/Colab Notebooks/Fake News/passive_aggressive_Classifier_news.bin'\n",
        "\n",
        "# Save trained model to file\n",
        "with open(FILEPATH, 'wb') as filepath:\n",
        "    pickle.dump(clf, filepath)"
      ],
      "metadata": {
        "id": "osxJxjOfh02W"
      },
      "execution_count": 29,
      "outputs": []
    },
    {
      "cell_type": "markdown",
      "source": [
        "## Conclusion\n",
        "\n",
        "I believe that more data is needed before the model is ready for production, as the model was trained with less than 10,000 samples.\n",
        "\n",
        "Moreover, its hyperparameters still need to be assessed, even though the predictions and the confusion matrix results look promising. The model wrongly predicted 7% of samples on the test dataset but still achieved 93% accuracy.\n",
        "\n",
        "Once the model is ready for production, the project will be developing a Flask web service to be deployed into Heroku."
      ],
      "metadata": {
        "id": "G9j1Y1NleD8h"
      }
    }
  ]
}